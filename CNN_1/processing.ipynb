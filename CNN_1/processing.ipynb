{
 "cells": [
  {
   "cell_type": "code",
   "execution_count": 5,
   "metadata": {},
   "outputs": [],
   "source": [
    "from keras.preprocessing.image import ImageDataGenerator\n",
    "import os"
   ]
  },
  {
   "cell_type": "code",
   "execution_count": 6,
   "metadata": {},
   "outputs": [],
   "source": [
    "train_datagen = ImageDataGenerator(rescale = 1./255)\n",
    "test_datagen = ImageDataGenerator(rescale = 1./255)"
   ]
  },
  {
   "cell_type": "code",
   "execution_count": 7,
   "metadata": {},
   "outputs": [],
   "source": [
    "base_dir = 'data\\cat_and_dog_small'\n",
    "train_dir = os.path.join(base_dir,'train')\n",
    "test_dir = os.path.join(base_dir,'train')\n",
    "val_dir = os.path.join(base_dir,'validation')"
   ]
  },
  {
   "cell_type": "code",
   "execution_count": 9,
   "metadata": {},
   "outputs": [
    {
     "name": "stdout",
     "output_type": "stream",
     "text": [
      "Found 2000 images belonging to 2 classes.\n"
     ]
    }
   ],
   "source": [
    "train_generator = train_datagen.flow_from_directory(\n",
    "    train_dir,\n",
    "    target_size = (150,150), # 모든 이미지를 150 x 150 크기로 바꾼다.\n",
    "    batch_size = 20,\n",
    "    class_mode = 'binary'  # binary_crossentropy 손실을 사용하기 때문에 이진 레이블 필요\n",
    ")"
   ]
  },
  {
   "cell_type": "code",
   "execution_count": 10,
   "metadata": {},
   "outputs": [
    {
     "name": "stdout",
     "output_type": "stream",
     "text": [
      "Found 1000 images belonging to 2 classes.\n"
     ]
    }
   ],
   "source": [
    "validation_generator = test_datagen.flow_from_directory(\n",
    "    val_dir,\n",
    "    target_size = (150,150),\n",
    "    batch_size = 20,\n",
    "    class_mode = 'binary'\n",
    ")"
   ]
  },
  {
   "cell_type": "code",
   "execution_count": 13,
   "metadata": {},
   "outputs": [],
   "source": [
    "import import_ipynb"
   ]
  },
  {
   "cell_type": "code",
   "execution_count": 16,
   "metadata": {},
   "outputs": [
    {
     "name": "stdout",
     "output_type": "stream",
     "text": [
      "importing Jupyter notebook from Network.ipynb\n"
     ]
    }
   ],
   "source": [
    "import Network"
   ]
  },
  {
   "cell_type": "code",
   "execution_count": null,
   "metadata": {},
   "outputs": [
    {
     "name": "stderr",
     "output_type": "stream",
     "text": [
      "C:\\Users\\seach\\anaconda3\\lib\\site-packages\\tensorflow\\python\\keras\\engine\\training.py:1844: UserWarning: `Model.fit_generator` is deprecated and will be removed in a future version. Please use `Model.fit`, which supports generators.\n",
      "  warnings.warn('`Model.fit_generator` is deprecated and '\n"
     ]
    },
    {
     "name": "stdout",
     "output_type": "stream",
     "text": [
      "Epoch 1/30\n",
      "100/100 [==============================] - 43s 423ms/step - loss: 0.6924 - acc: 0.5131 - val_loss: 0.7073 - val_acc: 0.4750\n",
      "Epoch 2/30\n",
      "100/100 [==============================] - 34s 341ms/step - loss: 0.6697 - acc: 0.5977 - val_loss: 0.6727 - val_acc: 0.6080\n",
      "Epoch 3/30\n",
      "100/100 [==============================] - 34s 342ms/step - loss: 0.6017 - acc: 0.6808 - val_loss: 0.8029 - val_acc: 0.4640\n",
      "Epoch 4/30\n",
      "100/100 [==============================] - 34s 341ms/step - loss: 0.5673 - acc: 0.7097 - val_loss: 0.8168 - val_acc: 0.5360\n",
      "Epoch 5/30\n",
      "100/100 [==============================] - 34s 344ms/step - loss: 0.5344 - acc: 0.7202 - val_loss: 0.9104 - val_acc: 0.4890\n",
      "Epoch 6/30\n",
      "100/100 [==============================] - 35s 346ms/step - loss: 0.5331 - acc: 0.7348 - val_loss: 1.5120 - val_acc: 0.2400\n",
      "Epoch 7/30\n",
      "100/100 [==============================] - 35s 346ms/step - loss: 0.4833 - acc: 0.7669 - val_loss: 1.5637 - val_acc: 0.2970\n",
      "Epoch 8/30\n",
      "100/100 [==============================] - 35s 345ms/step - loss: 0.4560 - acc: 0.7936 - val_loss: 1.1739 - val_acc: 0.4560\n",
      "Epoch 9/30\n",
      "100/100 [==============================] - 35s 346ms/step - loss: 0.4215 - acc: 0.8088 - val_loss: 0.7149 - val_acc: 0.7080\n",
      "Epoch 10/30\n",
      "100/100 [==============================] - 35s 346ms/step - loss: 0.4247 - acc: 0.8096 - val_loss: 2.0585 - val_acc: 0.2280\n",
      "Epoch 11/30\n",
      "100/100 [==============================] - 35s 346ms/step - loss: 0.3899 - acc: 0.8249 - val_loss: 1.2708 - val_acc: 0.4660\n",
      "Epoch 12/30\n",
      "100/100 [==============================] - 36s 361ms/step - loss: 0.3677 - acc: 0.8368 - val_loss: 1.1030 - val_acc: 0.5580\n",
      "Epoch 13/30\n",
      "100/100 [==============================] - 40s 399ms/step - loss: 0.3600 - acc: 0.8365 - val_loss: 0.7240 - val_acc: 0.7240\n",
      "Epoch 14/30\n",
      "100/100 [==============================] - 38s 383ms/step - loss: 0.3258 - acc: 0.8647 - val_loss: 1.1849 - val_acc: 0.5670\n",
      "Epoch 15/30\n",
      "100/100 [==============================] - 38s 383ms/step - loss: 0.2993 - acc: 0.8802 - val_loss: 1.9659 - val_acc: 0.3600\n",
      "Epoch 16/30\n",
      " 87/100 [