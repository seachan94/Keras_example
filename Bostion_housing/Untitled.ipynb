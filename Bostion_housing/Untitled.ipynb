{
 "cells": [
  {
   "cell_type": "code",
   "execution_count": 25,
   "metadata": {},
   "outputs": [],
   "source": [
    "from keras.datasets import boston_housing\n",
    "import tqdm"
   ]
  },
  {
   "cell_type": "code",
   "execution_count": 26,
   "metadata": {},
   "outputs": [],
   "source": [
    "(x_train,y_train) ,(x_test,y_test) = boston_housing.load_data()"
   ]
  },
  {
   "cell_type": "code",
   "execution_count": 27,
   "metadata": {},
   "outputs": [
    {
     "data": {
      "text/plain": [
       "array([  1.23247,   0.     ,   8.14   ,   0.     ,   0.538  ,   6.142  ,\n",
       "        91.7    ,   3.9769 ,   4.     , 307.     ,  21.     , 396.9    ,\n",
       "        18.72   ])"
      ]
     },
     "execution_count": 27,
     "metadata": {},
     "output_type": "execute_result"
    }
   ],
   "source": [
    "x_train[0]"
   ]
  },
  {
   "cell_type": "code",
   "execution_count": 28,
   "metadata": {},
   "outputs": [],
   "source": [
    "mean = x_train.mean(axis = 0)\n",
    "x_train-=mean\n",
    "std = x_train.std(axis = 0)\n",
    "x_train /=std\n",
    "\n",
    "x_test -=mean\n",
    "x_test /=std"
   ]
  },
  {
   "cell_type": "code",
   "execution_count": 29,
   "metadata": {},
   "outputs": [
    {
     "data": {
      "text/plain": [
       "0.34001350427214533"
      ]
     },
     "execution_count": 29,
     "metadata": {},
     "output_type": "execute_result"
    }
   ],
   "source": [
    "x_train[0].sum()"
   ]
  },
  {
   "cell_type": "code",
   "execution_count": 30,
   "metadata": {},
   "outputs": [],
   "source": [
    "from keras.models import Sequential\n",
    "from keras.layers import Dense,Activation"
   ]
  },
  {
   "cell_type": "code",
   "execution_count": 31,
   "metadata": {},
   "outputs": [],
   "source": [
    "def build_model():\n",
    "    \n",
    "    model = Sequential([\n",
    "        \n",
    "        Dense(64,input_shape=(x_train.shape[1],)),\n",
    "        Activation('relu'),\n",
    "        Dense(64),\n",
    "        Activation('relu'),\n",
    "        Dense(1)\n",
    "    ])\n",
    "    \n",
    "    model.compile(\n",
    "        optimizer='rmsprop',\n",
    "        loss ='mse',\n",
    "        metrics = ['mae']\n",
    "    )\n",
    "    \n",
    "    return model"
   ]
  },
  {
   "cell_type": "code",
   "execution_count": 35,
   "metadata": {},
   "outputs": [
    {
     "name": "stderr",
     "output_type": "stream",
     "text": [
      "  0%|          | 0/4 [00:00<?, ?it/s]"
     ]
    },
    {
     "name": "stdout",
     "output_type": "stream",
     "text": [
      "0 번째 처리 중 \n"
     ]
    },
    {
     "name": "stderr",
     "output_type": "stream",
     "text": [
      " 25%|██▌       | 1/4 [00:09<00:27,  9.33s/it]"
     ]
    },
    {
     "name": "stdout",
     "output_type": "stream",
     "text": [
      "1 번째 처리 중 \n"
     ]
    },
    {
     "name": "stderr",
     "output_type": "stream",
     "text": [
      " 50%|█████     | 2/4 [00:18<00:18,  9.34s/it]"
     ]
    },
    {
     "name": "stdout",
     "output_type": "stream",
     "text": [
      "2 번째 처리 중 \n"
     ]
    },
    {
     "name": "stderr",
     "output_type": "stream",
     "text": [
      " 75%|███████▌  | 3/4 [00:28<00:09,  9.40s/it]"
     ]
    },
    {
     "name": "stdout",
     "output_type": "stream",
     "text": [
      "3 번째 처리 중 \n"
     ]
    },
    {
     "name": "stderr",
     "output_type": "stream",
     "text": [
      "100%|██████████| 4/4 [00:37<00:00,  9.36s/it]\n"
     ]
    }
   ],
   "source": [
    "import numpy as np\n",
    "\n",
    "k = 4 \n",
    "num_val_samples = len(x_train)//k\n",
    "epoch = 100\n",
    "all_score = list()\n",
    "all_mae_histroy = list()\n",
    "for idx in tqdm.tqdm(range(k)):\n",
    "    print(idx ,'번째 처리 중 ')\n",
    "    val_data = x_train[idx * num_val_samples:(idx+1) * num_val_samples]\n",
    "    val_label = y_train[idx * num_val_samples:(idx + 1 )* num_val_samples]\n",
    "    \n",
    "    partial_train_data = np.concatenate(\n",
    "    \n",
    "        [\n",
    "            x_train[:idx * num_val_samples],\n",
    "            x_train[(idx+1)*num_val_samples:]\n",
    "        ],\n",
    "            axis = 0\n",
    "        \n",
    "    )\n",
    "    \n",
    "    partial_test_data = np.concatenate(\n",
    "        [\n",
    "            y_train[:idx * num_val_samples],\n",
    "            y_train[(idx+1) * num_val_samples:]\n",
    "        ],\n",
    "            axis = 0\n",
    "        \n",
    "    )\n",
    "    \n",
    "    model = build_model()\n",
    "    history = model.fit(\n",
    "        partial_train_data,\n",
    "        partial_test_data,\n",
    "        epochs = epoch,\n",
    "        batch_size = 1,\n",
    "        verbose = 0\n",
    "    )\n",
    "    \n",
    "    val_mse, val_mae = model.evaluate(val_data,val_label,verbose = 0)\n",
    "    all_score.append(val_mae)\n",
    "    mae_history = history.history['mae'] \n",
    "\n",
    "    all_mae_histroy.append(mae_history)"
   ]
  },
  {
   "cell_type": "code",
   "execution_count": 37,
   "metadata": {},
   "outputs": [],
   "source": [
    "avaerage_mae_history = [\n",
    "    np.mean([x[i] for x in all_mae_histroy] ) for i in range(epoch)\n",
    "]"
   ]
  },
  {
   "cell_type": "code",
   "execution_count": 43,
   "metadata": {},
   "outputs": [
    {
     "data": {
      "image/png": "[encoded data removed]",
      "text/plain": [
       "<Figure size 432x288 with 1 Axes>"
      ]
     },
     "metadata": {
      "needs_background": "light"
     },
     "output_type": "display_data"
    }
   ],
   "source": [
    "import matplotlib.pyplot as plt\n",
    "\n",
    "plt.plot( range(1, len(avaerage_mae_history)+1) , avaerage_mae_history)\n",
    "plt.xlabel('Epochs')\n",
    "plt.ylabel('Validation MAE')\n",
    "plt.show()"
   ]
  },
  {
   "cell_type": "code",
   "execution_count": 44,
   "metadata": {},
   "outputs": [],
   "source": [
    "def smooth_curve(points, factor = 0.9):\n",
    "    \n",
    "    smoothed_point = []\n",
    "    \n",
    "    for point in points:\n",
    "        if smoothed_point:\n",
    "            previous = smoothed_point[-1]\n",
    "            smoothed_point.append(previous * factor +point *(1-factor))\n",
    "        else:\n",
    "            smoothed_point.append(point)\n",
    "    return smoothed_point"
   ]
  },
  {
   "cell_type": "code",
   "execution_count": 51,
   "metadata": {},
   "outputs": [],
   "source": [
    "smooth_mae_history = smooth_curve(avaerage_mae_history[10:])"
   ]
  },
  {
   "cell_type": "code",
   "execution_count": 53,
   "metadata": {},
   "outputs": [
    {
     "data": {
      "image/png": "[encoded data removed]",
      "text/plain": [
       "<Figure size 432x288 with 1 Axes>"
      ]
     },
     "metadata": {
      "needs_background": "light"
     },
     "output_type": "display_data"
    }
   ],
   "source": [
    "plt.plot( range(1, len(smooth_mae_history)+1) , smooth_mae_history)\n",
    "plt.xlabel('Epochs')\n",
    "plt.ylabel('Validation MAE')\n",
    "plt.show()"
   ]
  },
  {
   "cell_type": "code",
   "execution_count": 54,
   "metadata": {},
   "outputs": [
    {
     "data": {
      "text/plain": [
       "<tensorflow.python.keras.callbacks.History at 0x1ddf4a53f70>"
      ]
     },
     "execution_count": 54,
     "metadata": {},
     "output_type": "execute_result"
    }
   ],
   "source": [
    "model = build_model()\n",
    "model.fit(\n",
    "    x_train,\n",
    "    y_train,\n",
    "    epochs = 150,\n",
    "    batch_size = 16,\n",
    "    verbose = 0\n",
    "         )"
   ]
  },
  {
   "cell_type": "code",
   "execution_count": 56,
   "metadata": {},
   "outputs": [
    {
     "name": "stdout",
     "output_type": "stream",
     "text": [
      "4/4 [==============================] - 0s 665us/step - loss: 14.3034 - mae: 2.4665\n"
     ]
    }
   ],
   "source": [
    "mse_t, mae_t = model.evaluate(x_test,y_test)"
   ]
  },
  {
   "cell_type": "code",
   "execution_count": 57,
   "metadata": {},
   "outputs": [
    {
     "name": "stdout",
     "output_type": "stream",
     "text": [
      "14.303414344787598 2.466517686843872\n"
     ]
    }
   ],
   "source": [
    "print (mse_t, mae_t)"
   ]
  },
  {
   "cell_type": "code",
   "execution_count": null,
   "metadata": {},
   "outputs": [],
   "source": []
  }
 ],
 "metadata": {
  "kernelspec": {
   "display_name": "Python 3",
   "language": "python",
   "name": "python3"
  },
  "language_info": {
   "codemirror_mode": {
    "name": "ipython",
    "version": 3
   },
   "file_extension": ".py",
   "mimetype": "text/x-python",
   "name": "python",
   "nbconvert_exporter": "python",
   "pygments_lexer": "ipython3",
   "version": "3.8.5"
  }
 },
 "nbformat": 4,
 "nbformat_minor": 4
}
